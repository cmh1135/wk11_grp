{
 "cells": [
  {
   "cell_type": "markdown",
   "id": "c74d116d",
   "metadata": {},
   "source": [
    "## Import the data into a pandas dataframe"
   ]
  },
  {
   "cell_type": "code",
   "execution_count": 1,
   "id": "0b3b4666",
   "metadata": {},
   "outputs": [
    {
     "data": {
      "text/html": [
       "<div>\n",
       "<style scoped>\n",
       "    .dataframe tbody tr th:only-of-type {\n",
       "        vertical-align: middle;\n",
       "    }\n",
       "\n",
       "    .dataframe tbody tr th {\n",
       "        vertical-align: top;\n",
       "    }\n",
       "\n",
       "    .dataframe thead th {\n",
       "        text-align: right;\n",
       "    }\n",
       "</style>\n",
       "<table border=\"1\" class=\"dataframe\">\n",
       "  <thead>\n",
       "    <tr style=\"text-align: right;\">\n",
       "      <th></th>\n",
       "      <th>Week</th>\n",
       "      <th>Taylor Swift: (United States)</th>\n",
       "      <th>Kim Kardashian: (United States)</th>\n",
       "    </tr>\n",
       "  </thead>\n",
       "  <tbody>\n",
       "    <tr>\n",
       "      <th>0</th>\n",
       "      <td>2020-12-06</td>\n",
       "      <td>46</td>\n",
       "      <td>15</td>\n",
       "    </tr>\n",
       "    <tr>\n",
       "      <th>1</th>\n",
       "      <td>2020-12-13</td>\n",
       "      <td>44</td>\n",
       "      <td>14</td>\n",
       "    </tr>\n",
       "    <tr>\n",
       "      <th>2</th>\n",
       "      <td>2020-12-20</td>\n",
       "      <td>26</td>\n",
       "      <td>14</td>\n",
       "    </tr>\n",
       "    <tr>\n",
       "      <th>3</th>\n",
       "      <td>2020-12-27</td>\n",
       "      <td>23</td>\n",
       "      <td>13</td>\n",
       "    </tr>\n",
       "    <tr>\n",
       "      <th>4</th>\n",
       "      <td>2021-01-03</td>\n",
       "      <td>18</td>\n",
       "      <td>74</td>\n",
       "    </tr>\n",
       "  </tbody>\n",
       "</table>\n",
       "</div>"
      ],
      "text/plain": [
       "         Week  Taylor Swift: (United States)  Kim Kardashian: (United States)\n",
       "0  2020-12-06                             46                               15\n",
       "1  2020-12-13                             44                               14\n",
       "2  2020-12-20                             26                               14\n",
       "3  2020-12-27                             23                               13\n",
       "4  2021-01-03                             18                               74"
      ]
     },
     "execution_count": 1,
     "metadata": {},
     "output_type": "execute_result"
    }
   ],
   "source": [
    "import pandas as pd\n",
    "import numpy as np\n",
    "import math\n",
    "import statistics\n",
    "from scipy import stats\n",
    "\n",
    "\n",
    "#read csv and create data frame\n",
    "\n",
    "swift_dash = \"multiTimeline1.csv\"\n",
    "swift_dash_df  = pd.read_csv(\"multiTimeline1.csv\")\n",
    "swift_dash_df .head()"
   ]
  },
  {
   "cell_type": "markdown",
   "id": "830bf1a1",
   "metadata": {},
   "source": [
    "\n",
    "b. Decide whether ARMA, ARIMA, or SARIMA makes more sense for the dataset\n",
    "c. Run either an ARMA, ARIMA, or SARIMA on it\n",
    "d. Explain the results\n",
    "e. Discuss your findings with your group and explain what trend someone else\n",
    "chose and why they chose the model they did\n",
    "2. What is a fourier transform? Perform one on y = np.cos(x/2), and both show (with code)\n",
    "and explain the key elements."
   ]
  },
  {
   "cell_type": "code",
   "execution_count": 2,
   "id": "db04db41",
   "metadata": {},
   "outputs": [
    {
     "data": {
      "text/plain": [
       "Index(['Week', 'Taylor Swift: (United States)',\n",
       "       'Kim Kardashian: (United States)'],\n",
       "      dtype='object')"
      ]
     },
     "execution_count": 2,
     "metadata": {},
     "output_type": "execute_result"
    }
   ],
   "source": [
    "swift_dash_df.columns"
   ]
  },
  {
   "cell_type": "markdown",
   "id": "f30f24ca",
   "metadata": {},
   "source": [
    "## b. Decide whether ARMA, ARIMA, or SARIMA makes more sense for the dataset"
   ]
  },
  {
   "cell_type": "code",
   "execution_count": 42,
   "id": "8af5a43e",
   "metadata": {},
   "outputs": [],
   "source": [
    "import statsmodels.tsa.stattools as sm\n",
    "from statsmodels.tsa.arima.model import ARIMA\n",
    "import matplotlib.pyplot as plt \n",
    "from statsmodels.graphics.tsaplots import plot_acf, plot_pacf"
   ]
  },
  {
   "cell_type": "code",
   "execution_count": 51,
   "id": "29917d59",
   "metadata": {},
   "outputs": [
    {
     "data": {
      "image/png": "[encoded data removed]",
      "text/plain": [
       "<Figure size 432x288 with 1 Axes>"
      ]
     },
     "metadata": {
      "needs_background": "light"
     },
     "output_type": "display_data"
    },
    {
     "name": "stdout",
     "output_type": "stream",
     "text": [
      "t-statistic            -6.374545e+00\n",
      "p-value                 2.300998e-08\n",
      "lags-used               0.000000e+00\n",
      "no-of-observations      5.100000e+01\n",
      "Critical Value (1%)    -3.565624e+00\n",
      "Critical Value (5%)    -2.920142e+00\n",
      "Critical Value (10%)   -2.598015e+00\n",
      "dtype: float64\n"
     ]
    }
   ],
   "source": [
    "#plotting the data \n",
    "plt.plot (swift_dash_df['Kim Kardashian: (United States)'])\n",
    "plt.show()\n",
    "\n",
    "#checking for stationarity\n",
    "#If Test statistic < Critical Value and p-value < 0.05 it is trend stationary?\n",
    "nonst_test = sm.adfuller(swift_dash_df['Kim Kardashian: (United States)'])\n",
    "kpss = pd.Series(nonst_test[0:4], index=['t-statistic','p-value','lags-used','no-of-observations'])\n",
    "for key,value in nonst_test[4].items():\n",
    "    kpss['Critical Value (%s)'%key] = value\n",
    "print(kpss)"
   ]
  },
  {
   "cell_type": "code",
   "execution_count": 90,
   "id": "7979b9e8",
   "metadata": {},
   "outputs": [
    {
     "data": {
      "image/png": "[encoded data removed]",
      "text/plain": [
       "<Figure size 432x288 with 1 Axes>"
      ]
     },
     "metadata": {
      "needs_background": "light"
     },
     "output_type": "display_data"
    }
   ],
   "source": [
    "plot_acf(swift_dash_df[['Kim Kardashian: (United States)']], lags = 10, missing='drop', alpha=0.05)\n",
    "plt.show()"
   ]
  },
  {
   "cell_type": "code",
   "execution_count": 92,
   "id": "69cfc851",
   "metadata": {},
   "outputs": [
    {
     "data": {
      "image/png": "[encoded data removed]",
      "text/plain": [
       "<Figure size 432x288 with 1 Axes>"
      ]
     },
     "metadata": {
      "needs_background": "light"
     },
     "output_type": "display_data"
    }
   ],
   "source": [
    "plot_pacf(swift_dash_df[['Kim Kardashian: (United States)']],method='ywm', zero = False, lags = 10, alpha=0.20) \n",
    "plt.show()\n",
    "#tested changing alpha between 95-80% to see if any data falls outside the confidence level\n",
    "#no points outside the CI"
   ]
  },
  {
   "cell_type": "code",
   "execution_count": 39,
   "id": "e3a47587",
   "metadata": {},
   "outputs": [
    {
     "data": {
      "text/plain": [
       "(0.01, False)"
      ]
     },
     "execution_count": 39,
     "metadata": {},
     "output_type": "execute_result"
    }
   ],
   "source": [
    "#Another way of verifying if the data is stationary / if diferrencing is needed ...ARIMA\n",
    "import pmdarima as pm\n",
    "test = pm.arima.PPTest(alpha=0.05) \n",
    "#test.is_stationary(swift_dash_df['Kim Kardashian: (United States)']) deprecated\n",
    "test.should_diff(swift_dash_df['Kim Kardashian: (United States)'])\n",
    "#no differencing needed data is stationary and ARMA is best"
   ]
  },
  {
   "cell_type": "markdown",
   "id": "9e8e6b68",
   "metadata": {},
   "source": [
    "## c. Run either an ARMA, ARIMA, or SARIMA on it"
   ]
  },
  {
   "cell_type": "code",
   "execution_count": 78,
   "id": "09f686ba",
   "metadata": {},
   "outputs": [],
   "source": [
    "model = ARIMA(swift_dash_df['Kim Kardashian: (United States)'],order=(1,0,1)) #ARMA"
   ]
  },
  {
   "cell_type": "code",
   "execution_count": 79,
   "id": "2d95046b",
   "metadata": {},
   "outputs": [
    {
     "data": {
      "text/html": [
       "<table class=\"simpletable\">\n",
       "<caption>SARIMAX Results</caption>\n",
       "<tr>\n",
       "  <th>Dep. Variable:</th>   <td>Kim Kardashian: (United States)</td> <th>  No. Observations:  </th>    <td>52</td>   \n",
       "</tr>\n",
       "<tr>\n",
       "  <th>Model:</th>                   <td>ARIMA(0, 0, 1)</td>          <th>  Log Likelihood     </th> <td>-194.608</td>\n",
       "</tr>\n",
       "<tr>\n",
       "  <th>Date:</th>                   <td>Fri, 03 Dec 2021</td>         <th>  AIC                </th>  <td>395.215</td>\n",
       "</tr>\n",
       "<tr>\n",
       "  <th>Time:</th>                       <td>22:25:46</td>             <th>  BIC                </th>  <td>401.069</td>\n",
       "</tr>\n",
       "<tr>\n",
       "  <th>Sample:</th>                         <td>0</td>                <th>  HQIC               </th>  <td>397.460</td>\n",
       "</tr>\n",
       "<tr>\n",
       "  <th></th>                              <td> - 52</td>              <th>                     </th>     <td> </td>   \n",
       "</tr>\n",
       "<tr>\n",
       "  <th>Covariance Type:</th>               <td>opg</td>               <th>                     </th>     <td> </td>   \n",
       "</tr>\n",
       "</table>\n",
       "<table class=\"simpletable\">\n",
       "<tr>\n",
       "     <td></td>       <th>coef</th>     <th>std err</th>      <th>z</th>      <th>P>|z|</th>  <th>[0.025</th>    <th>0.975]</th>  \n",
       "</tr>\n",
       "<tr>\n",
       "  <th>const</th>  <td>   20.4051</td> <td>    2.882</td> <td>    7.080</td> <td> 0.000</td> <td>   14.756</td> <td>   26.054</td>\n",
       "</tr>\n",
       "<tr>\n",
       "  <th>ma.L1</th>  <td>    0.0938</td> <td>    0.269</td> <td>    0.349</td> <td> 0.727</td> <td>   -0.433</td> <td>    0.621</td>\n",
       "</tr>\n",
       "<tr>\n",
       "  <th>sigma2</th> <td>  104.2568</td> <td>   15.253</td> <td>    6.835</td> <td> 0.000</td> <td>   74.361</td> <td>  134.153</td>\n",
       "</tr>\n",
       "</table>\n",
       "<table class=\"simpletable\">\n",
       "<tr>\n",
       "  <th>Ljung-Box (L1) (Q):</th>     <td>0.00</td> <th>  Jarque-Bera (JB):  </th> <td>478.62</td>\n",
       "</tr>\n",
       "<tr>\n",
       "  <th>Prob(Q):</th>                <td>1.00</td> <th>  Prob(JB):          </th>  <td>0.00</td> \n",
       "</tr>\n",
       "<tr>\n",
       "  <th>Heteroskedasticity (H):</th> <td>0.53</td> <th>  Skew:              </th>  <td>3.30</td> \n",
       "</tr>\n",
       "<tr>\n",
       "  <th>Prob(H) (two-sided):</th>    <td>0.20</td> <th>  Kurtosis:          </th>  <td>16.32</td>\n",
       "</tr>\n",
       "</table><br/><br/>Warnings:<br/>[1] Covariance matrix calculated using the outer product of gradients (complex-step)."
      ],
      "text/plain": [
       "<class 'statsmodels.iolib.summary.Summary'>\n",
       "\"\"\"\n",
       "                                      SARIMAX Results                                      \n",
       "===========================================================================================\n",
       "Dep. Variable:     Kim Kardashian: (United States)   No. Observations:                   52\n",
       "Model:                              ARIMA(0, 0, 1)   Log Likelihood                -194.608\n",
       "Date:                             Fri, 03 Dec 2021   AIC                            395.215\n",
       "Time:                                     22:25:46   BIC                            401.069\n",
       "Sample:                                          0   HQIC                           397.460\n",
       "                                              - 52                                         \n",
       "Covariance Type:                               opg                                         \n",
       "==============================================================================\n",
       "                 coef    std err          z      P>|z|      [0.025      0.975]\n",
       "------------------------------------------------------------------------------\n",
       "const         20.4051      2.882      7.080      0.000      14.756      26.054\n",
       "ma.L1          0.0938      0.269      0.349      0.727      -0.433       0.621\n",
       "sigma2       104.2568     15.253      6.835      0.000      74.361     134.153\n",
       "===================================================================================\n",
       "Ljung-Box (L1) (Q):                   0.00   Jarque-Bera (JB):               478.62\n",
       "Prob(Q):                              1.00   Prob(JB):                         0.00\n",
       "Heteroskedasticity (H):               0.53   Skew:                             3.30\n",
       "Prob(H) (two-sided):                  0.20   Kurtosis:                        16.32\n",
       "===================================================================================\n",
       "\n",
       "Warnings:\n",
       "[1] Covariance matrix calculated using the outer product of gradients (complex-step).\n",
       "\"\"\""
      ]
     },
     "execution_count": 79,
     "metadata": {},
     "output_type": "execute_result"
    }
   ],
   "source": [
    "results = model.fit()\n",
    "results.summary()"
   ]
  },
  {
   "cell_type": "code",
   "execution_count": 145,
   "id": "1d9f1b47",
   "metadata": {},
   "outputs": [
    {
     "name": "stderr",
     "output_type": "stream",
     "text": [
      "C:\\Users\\chdar\\AppData\\Local\\Programs\\Python\\Python39\\lib\\site-packages\\statsmodels\\tsa\\statespace\\sarimax.py:966: UserWarning: Non-stationary starting autoregressive parameters found. Using zeros as starting parameters.\n",
      "  warn('Non-stationary starting autoregressive parameters'\n",
      "C:\\Users\\chdar\\AppData\\Local\\Programs\\Python\\Python39\\lib\\site-packages\\statsmodels\\tsa\\statespace\\sarimax.py:978: UserWarning: Non-invertible starting MA parameters found. Using zeros as starting parameters.\n",
      "  warn('Non-invertible starting MA parameters found.'\n"
     ]
    },
    {
     "data": {
      "text/html": [
       "<table class=\"simpletable\">\n",
       "<caption>SARIMAX Results</caption>\n",
       "<tr>\n",
       "  <th>Dep. Variable:</th>   <td>Kim Kardashian: (United States)</td> <th>  No. Observations:  </th>    <td>52</td>   \n",
       "</tr>\n",
       "<tr>\n",
       "  <th>Model:</th>                   <td>ARIMA(1, 1, 2)</td>          <th>  Log Likelihood     </th> <td>-193.240</td>\n",
       "</tr>\n",
       "<tr>\n",
       "  <th>Date:</th>                   <td>Fri, 03 Dec 2021</td>         <th>  AIC                </th>  <td>394.481</td>\n",
       "</tr>\n",
       "<tr>\n",
       "  <th>Time:</th>                       <td>23:42:58</td>             <th>  BIC                </th>  <td>402.208</td>\n",
       "</tr>\n",
       "<tr>\n",
       "  <th>Sample:</th>                         <td>0</td>                <th>  HQIC               </th>  <td>397.433</td>\n",
       "</tr>\n",
       "<tr>\n",
       "  <th></th>                              <td> - 52</td>              <th>                     </th>     <td> </td>   \n",
       "</tr>\n",
       "<tr>\n",
       "  <th>Covariance Type:</th>               <td>opg</td>               <th>                     </th>     <td> </td>   \n",
       "</tr>\n",
       "</table>\n",
       "<table class=\"simpletable\">\n",
       "<tr>\n",
       "     <td></td>       <th>coef</th>     <th>std err</th>      <th>z</th>      <th>P>|z|</th>  <th>[0.025</th>    <th>0.975]</th>  \n",
       "</tr>\n",
       "<tr>\n",
       "  <th>ar.L1</th>  <td>    0.0060</td> <td>    1.818</td> <td>    0.003</td> <td> 0.997</td> <td>   -3.557</td> <td>    3.569</td>\n",
       "</tr>\n",
       "<tr>\n",
       "  <th>ma.L1</th>  <td>   -0.8939</td> <td>    5.974</td> <td>   -0.150</td> <td> 0.881</td> <td>  -12.602</td> <td>   10.814</td>\n",
       "</tr>\n",
       "<tr>\n",
       "  <th>ma.L2</th>  <td>   -0.1053</td> <td>    1.809</td> <td>   -0.058</td> <td> 0.954</td> <td>   -3.651</td> <td>    3.440</td>\n",
       "</tr>\n",
       "<tr>\n",
       "  <th>sigma2</th> <td>  106.4042</td> <td>  583.823</td> <td>    0.182</td> <td> 0.855</td> <td>-1037.868</td> <td> 1250.677</td>\n",
       "</tr>\n",
       "</table>\n",
       "<table class=\"simpletable\">\n",
       "<tr>\n",
       "  <th>Ljung-Box (L1) (Q):</th>     <td>0.00</td> <th>  Jarque-Bera (JB):  </th> <td>432.21</td>\n",
       "</tr>\n",
       "<tr>\n",
       "  <th>Prob(Q):</th>                <td>0.98</td> <th>  Prob(JB):          </th>  <td>0.00</td> \n",
       "</tr>\n",
       "<tr>\n",
       "  <th>Heteroskedasticity (H):</th> <td>0.54</td> <th>  Skew:              </th>  <td>3.24</td> \n",
       "</tr>\n",
       "<tr>\n",
       "  <th>Prob(H) (two-sided):</th>    <td>0.22</td> <th>  Kurtosis:          </th>  <td>15.70</td>\n",
       "</tr>\n",
       "</table><br/><br/>Warnings:<br/>[1] Covariance matrix calculated using the outer product of gradients (complex-step)."
      ],
      "text/plain": [
       "<class 'statsmodels.iolib.summary.Summary'>\n",
       "\"\"\"\n",
       "                                      SARIMAX Results                                      \n",
       "===========================================================================================\n",
       "Dep. Variable:     Kim Kardashian: (United States)   No. Observations:                   52\n",
       "Model:                              ARIMA(1, 1, 2)   Log Likelihood                -193.240\n",
       "Date:                             Fri, 03 Dec 2021   AIC                            394.481\n",
       "Time:                                     23:42:58   BIC                            402.208\n",
       "Sample:                                          0   HQIC                           397.433\n",
       "                                              - 52                                         \n",
       "Covariance Type:                               opg                                         \n",
       "==============================================================================\n",
       "                 coef    std err          z      P>|z|      [0.025      0.975]\n",
       "------------------------------------------------------------------------------\n",
       "ar.L1          0.0060      1.818      0.003      0.997      -3.557       3.569\n",
       "ma.L1         -0.8939      5.974     -0.150      0.881     -12.602      10.814\n",
       "ma.L2         -0.1053      1.809     -0.058      0.954      -3.651       3.440\n",
       "sigma2       106.4042    583.823      0.182      0.855   -1037.868    1250.677\n",
       "===================================================================================\n",
       "Ljung-Box (L1) (Q):                   0.00   Jarque-Bera (JB):               432.21\n",
       "Prob(Q):                              0.98   Prob(JB):                         0.00\n",
       "Heteroskedasticity (H):               0.54   Skew:                             3.24\n",
       "Prob(H) (two-sided):                  0.22   Kurtosis:                        15.70\n",
       "===================================================================================\n",
       "\n",
       "Warnings:\n",
       "[1] Covariance matrix calculated using the outer product of gradients (complex-step).\n",
       "\"\"\""
      ]
     },
     "execution_count": 145,
     "metadata": {},
     "output_type": "execute_result"
    }
   ],
   "source": [
    "model2 = ARIMA(swift_dash_df['Kim Kardashian: (United States)'],order=(1,1,2))\n",
    "results2 = model2.fit()\n",
    "results2.summary()"
   ]
  },
  {
   "cell_type": "markdown",
   "id": "6fafeebe",
   "metadata": {},
   "source": [
    "## d. Explain the results\n",
    "\n",
    "Utilized the kim column. I chose ARMA for this dataset as the data is not seasonal, no differencing is needed and it is already stationary. There is 1 lag outside the confidence level of my acf (AR) and none on the pacf. I varied the alpha and still found no lags on the pacf (MA) outside the confidence level but the graph shows a negative correlation. "
   ]
  },
  {
   "cell_type": "markdown",
   "id": "b8b08c0f",
   "metadata": {},
   "source": [
    "## e. Discuss your findings with your group and explain what trend someone else chose and why they chose the model they did"
   ]
  },
  {
   "cell_type": "markdown",
   "id": "8c503e85",
   "metadata": {},
   "source": [
    "Clarine also chose the Kim K and Taylor Swift trend data. We both explored Kim K trends, but she chose the ARIMA model after running the AFD test. As the data changed towards the end of the model she found it to be a better fit as the data changed towards the end of the year.  "
   ]
  },
  {
   "cell_type": "markdown",
   "id": "5943a495",
   "metadata": {},
   "source": [
    "## 2. What is a fourier transform? Perform one on y = np.cos(x/2), and both show (with code) and explain the key elements.\n",
    "\n",
    "Fourier transform converts x axis of a signal for time intervals into frequency.  "
   ]
  },
  {
   "cell_type": "code",
   "execution_count": 147,
   "id": "870bef74",
   "metadata": {},
   "outputs": [
    {
     "data": {
      "image/png": "[encoded data removed]",
      "text/plain": [
       "<Figure size 432x288 with 1 Axes>"
      ]
     },
     "metadata": {
      "needs_background": "light"
     },
     "output_type": "display_data"
    }
   ],
   "source": [
    "from scipy import signal\n",
    "\n",
    "x = np.arange(1,100,1)\n",
    "y = np.cos(x/2)\n",
    "plt.plot(x,y)\n",
    "plt.xlabel('Time')\n",
    "plt.ylabel('Intensity')\n",
    "plt.show()"
   ]
  },
  {
   "cell_type": "code",
   "execution_count": null,
   "id": "93d62a4b",
   "metadata": {},
   "outputs": [],
   "source": []
  }
 ],
 "metadata": {
  "kernelspec": {
   "display_name": "Python 3 (ipykernel)",
   "language": "python",
   "name": "python3"
  },
  "language_info": {
   "codemirror_mode": {
    "name": "ipython",
    "version": 3
   },
   "file_extension": ".py",
   "mimetype": "text/x-python",
   "name": "python",
   "nbconvert_exporter": "python",
   "pygments_lexer": "ipython3",
   "version": "3.9.7"
  }
 },
 "nbformat": 4,
 "nbformat_minor": 5
}
